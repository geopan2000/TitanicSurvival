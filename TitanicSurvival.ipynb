{
  "nbformat": 4,
  "nbformat_minor": 0,
  "metadata": {
    "colab": {
      "provenance": []
    },
    "kernelspec": {
      "name": "python3",
      "display_name": "Python 3"
    },
    "language_info": {
      "name": "python"
    }
  },
  "cells": [
    {
      "cell_type": "code",
      "source": [
        "from sklearn.preprocessing import LabelEncoder\n",
        "\n",
        "\n",
        "# Apply the mapping to both the training and test data\n",
        "def map_ordinal_features(df, mappings):\n",
        "    for feature, mapping in mappings.items():\n",
        "        df[feature] = df[feature].map(mapping)\n",
        "    return df\n",
        "\n",
        "def frequency_encoding(train_df, test_df, column):\n",
        "    # Get the frequency of each category in the train data\n",
        "    freq_map = train_df[column].value_counts(normalize=True).to_dict()\n",
        "\n",
        "    # Map the frequencies to the train and test data using the same mapping\n",
        "    train_df[column] = train_df[column].map(freq_map)\n",
        "    test_df[column] = test_df[column].map(freq_map)\n",
        "\n",
        "    return train_df, test_df\n",
        "\n",
        "def binary_encoding(df, mappings):\n",
        "    for feature, mapping in mappings.items():\n",
        "        df[feature] = df[feature].map(mapping)\n",
        "    return df"
      ],
      "metadata": {
        "id": "pEGO0a05TLkY"
      },
      "execution_count": 50,
      "outputs": []
    },
    {
      "cell_type": "markdown",
      "source": [
        "#Titanic Survival Prediction"
      ],
      "metadata": {
        "id": "EmaWcD5u7CdK"
      }
    },
    {
      "cell_type": "code",
      "source": [
        "# Clone the GitHub repository\n",
        "!git clone https://github.com/geopan2000/TitanicSurvival.git\n",
        "\n",
        "# Change directory to the cloned repository\n",
        "%cd TitanicSurvival"
      ],
      "metadata": {
        "id": "Hi8aXOpR6_ax",
        "outputId": "9f5884ba-5697-4c8a-88dd-c07c95261e20",
        "colab": {
          "base_uri": "https://localhost:8080/"
        }
      },
      "execution_count": 51,
      "outputs": [
        {
          "output_type": "stream",
          "name": "stdout",
          "text": [
            "Cloning into 'TitanicSurvival'...\n",
            "remote: Enumerating objects: 12, done.\u001b[K\n",
            "remote: Counting objects: 100% (12/12), done.\u001b[K\n",
            "remote: Compressing objects: 100% (10/10), done.\u001b[K\n",
            "remote: Total 12 (delta 0), reused 0 (delta 0), pack-reused 0 (from 0)\u001b[K\n",
            "Receiving objects: 100% (12/12), 36.15 KiB | 974.00 KiB/s, done.\n",
            "/content/TitanicSurvival/TitanicSurvival/TitanicSurvival/TitanicSurvival/TitanicSurvival/TitanicSurvival/TitanicSurvival/TitanicSurvival/TitanicSurvival\n"
          ]
        }
      ]
    },
    {
      "cell_type": "code",
      "source": [
        "import pandas as pd"
      ],
      "metadata": {
        "id": "DIaqHYf6PqFI"
      },
      "execution_count": 52,
      "outputs": []
    },
    {
      "cell_type": "code",
      "execution_count": 53,
      "metadata": {
        "id": "HEOS2uRLdUTx",
        "outputId": "d81aab2b-ffa3-4056-c604-9ac87221fd9b",
        "colab": {
          "base_uri": "https://localhost:8080/"
        }
      },
      "outputs": [
        {
          "output_type": "stream",
          "name": "stdout",
          "text": [
            "<class 'pandas.core.frame.DataFrame'>\n",
            "RangeIndex: 891 entries, 0 to 890\n",
            "Data columns (total 12 columns):\n",
            " #   Column       Non-Null Count  Dtype  \n",
            "---  ------       --------------  -----  \n",
            " 0   PassengerId  891 non-null    int64  \n",
            " 1   Survived     891 non-null    int64  \n",
            " 2   Pclass       891 non-null    int64  \n",
            " 3   Name         891 non-null    object \n",
            " 4   Sex          891 non-null    object \n",
            " 5   Age          714 non-null    float64\n",
            " 6   SibSp        891 non-null    int64  \n",
            " 7   Parch        891 non-null    int64  \n",
            " 8   Ticket       891 non-null    object \n",
            " 9   Fare         891 non-null    float64\n",
            " 10  Cabin        204 non-null    object \n",
            " 11  Embarked     889 non-null    object \n",
            "dtypes: float64(2), int64(5), object(5)\n",
            "memory usage: 83.7+ KB\n",
            "None\n",
            "<class 'pandas.core.frame.DataFrame'>\n",
            "RangeIndex: 418 entries, 0 to 417\n",
            "Data columns (total 11 columns):\n",
            " #   Column       Non-Null Count  Dtype  \n",
            "---  ------       --------------  -----  \n",
            " 0   PassengerId  418 non-null    int64  \n",
            " 1   Pclass       418 non-null    int64  \n",
            " 2   Name         418 non-null    object \n",
            " 3   Sex          418 non-null    object \n",
            " 4   Age          332 non-null    float64\n",
            " 5   SibSp        418 non-null    int64  \n",
            " 6   Parch        418 non-null    int64  \n",
            " 7   Ticket       418 non-null    object \n",
            " 8   Fare         417 non-null    float64\n",
            " 9   Cabin        91 non-null     object \n",
            " 10  Embarked     418 non-null    object \n",
            "dtypes: float64(2), int64(4), object(5)\n",
            "memory usage: 36.0+ KB\n",
            "None\n"
          ]
        }
      ],
      "source": [
        "train_data = pd.read_csv('data/train.csv')\n",
        "print(train_data.info())\n",
        "test_data = pd.read_csv('data/test.csv')\n",
        "print(test_data.info())"
      ]
    },
    {
      "cell_type": "code",
      "source": [
        "train_data['Age']=train_data['Age'].fillna(train_data['Age'].mean())\n",
        "train_data['Age']=train_data['Age'] / 100\n",
        "\n",
        "test_data['Age']=test_data['Age'].fillna(train_data['Age'].mean())\n",
        "test_data['Age']=test_data['Age'] / 100"
      ],
      "metadata": {
        "id": "aZhRnPedPtVu"
      },
      "execution_count": 54,
      "outputs": []
    },
    {
      "cell_type": "code",
      "source": [
        "# Apply one-hot encoding on train and test data\n",
        "train_data = pd.get_dummies(train_data, columns=['Embarked'])\n",
        "test_data = pd.get_dummies(test_data, columns=['Embarked'])"
      ],
      "metadata": {
        "id": "ZIvrpX70Yk6B"
      },
      "execution_count": 55,
      "outputs": []
    },
    {
      "cell_type": "code",
      "source": [
        "print(train_data.shape)\n",
        "print(test_data.shape)"
      ],
      "metadata": {
        "id": "VtEPf2DtZRvl",
        "outputId": "f31a9fe6-2d24-4cb9-f960-6ef5b92da883",
        "colab": {
          "base_uri": "https://localhost:8080/"
        }
      },
      "execution_count": 57,
      "outputs": [
        {
          "output_type": "stream",
          "name": "stdout",
          "text": [
            "(418, 13)\n",
            "(891, 14)\n"
          ]
        }
      ]
    }
  ]
}